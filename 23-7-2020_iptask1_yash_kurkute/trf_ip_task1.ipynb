{
 "cells": [
  {
   "cell_type": "code",
   "execution_count": 1,
   "metadata": {},
   "outputs": [],
   "source": [
    "import cv2"
   ]
  },
  {
   "cell_type": "code",
   "execution_count": 4,
   "metadata": {},
   "outputs": [
    {
     "name": "stdout",
     "output_type": "stream",
     "text": [
      "Old shape (300, 230, 3)\n",
      "Old size 207000\n",
      "New shape (400, 400, 3)\n",
      "New size 480000\n"
     ]
    }
   ],
   "source": [
    "text1=cv2.imread('text.jpg',3)\n",
    "\n",
    "gray1=cv2.cvtColor(text1,cv2.COLOR_BGR2GRAY)\n",
    "hsv1 = cv2.cvtColor(text1,cv2.COLOR_RGB2HSV)\n",
    "\n",
    "cv2.imshow(\"Real\",text1)\n",
    "cv2.imshow(\"gray\", gray1)\n",
    "cv2.imshow(\"HSV\",hsv1)\n",
    "\n",
    "img = cv2.resize(text1,(400,400))\n",
    "cv2.imshow(\"Real Resized\", img)\n",
    "\n",
    "print(\"Old shape\",text1.shape)\n",
    "print(\"Old size\",text1.size)\n",
    "print(\"New shape\",img.shape)\n",
    "print(\"New size\",img.size)\n",
    "\n",
    "ret,thresh1=cv2.threshold(gray1,155,255,cv2.THRESH_BINARY) \n",
    "cv2.imshow(\"Thresh Binary\", thresh1)\n",
    "\n",
    "ret,thresh2=cv2.threshold(gray1,130,255,cv2.THRESH_BINARY_INV)  \n",
    "cv2.imshow(\"Thresh Binary Invet\", thresh2)\n",
    "\n",
    "gaus=cv2.adaptiveThreshold(gray1,255,cv2.ADAPTIVE_THRESH_GAUSSIAN_C,cv2.THRESH_BINARY,115,1)\n",
    "cv2.imshow(\"Thresh Adaptive Gaussian\", gaus)\n",
    "\n",
    "mean=cv2.adaptiveThreshold(gray1,255,cv2.ADAPTIVE_THRESH_MEAN_C,cv2.THRESH_BINARY,115,1)\n",
    "cv2.imshow(\"Thresh Adaptive Mean\", mean)\n",
    "\n",
    "cv2.imwrite(\"E:/robosparkworkshop/Gray.jpg\",gray1)\n",
    "cv2.imwrite(\"E:/robosparkworkshop/HSV.jpg\",hsv1)\n",
    "cv2.imwrite(\"E:/robosparkworkshop/Thresh_Binary.jpg\", thresh1)\n",
    "cv2.imwrite(\"E:/robosparkworkshop/Thresh_Binary_Invet.jpg\", thresh2)\n",
    "cv2.imwrite(\"E:/robosparkworkshop/Thresh_Adaptive_Gaussian.jpg\", gaus)\n",
    "cv2.imwrite(\"E:/robosparkworkshop/Thresh_Adaptive_Mean.jpg\", mean)\n",
    "\n",
    "cv2.waitKey(0)\n",
    "cv2.destroyAllWindows()"
   ]
  },
  {
   "cell_type": "code",
   "execution_count": null,
   "metadata": {},
   "outputs": [],
   "source": []
  }
 ],
 "metadata": {
  "kernelspec": {
   "display_name": "Python 3",
   "language": "python",
   "name": "python3"
  },
  "language_info": {
   "codemirror_mode": {
    "name": "ipython",
    "version": 3
   },
   "file_extension": ".py",
   "mimetype": "text/x-python",
   "name": "python",
   "nbconvert_exporter": "python",
   "pygments_lexer": "ipython3",
   "version": "3.7.6"
  }
 },
 "nbformat": 4,
 "nbformat_minor": 4
}
