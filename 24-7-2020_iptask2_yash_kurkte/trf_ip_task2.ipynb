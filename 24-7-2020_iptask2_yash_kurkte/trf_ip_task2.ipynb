{
 "cells": [
  {
   "cell_type": "code",
   "execution_count": 1,
   "metadata": {},
   "outputs": [],
   "source": [
    "import cv2\n",
    "import numpy as np"
   ]
  },
  {
   "cell_type": "code",
   "execution_count": 8,
   "metadata": {},
   "outputs": [
    {
     "name": "stdout",
     "output_type": "stream",
     "text": [
      "(800, 480, 3)\n",
      "(600, 480, 3)\n"
     ]
    }
   ],
   "source": [
    "original = cv2.imread('rose_flower.jpg')\n",
    "print(original.shape)\n",
    "\n",
    "res = cv2.resize(original,(480,600))\n",
    "print(res.shape)\n",
    "cv2.imshow(\"Original\", res)\n",
    "hsv=cv2.cvtColor(res,cv2.COLOR_BGR2HSV)\n",
    "\n",
    "#masking\n",
    "bgrl = np.array([120 , 0, 90], np.uint8)\n",
    "bgrh = np.array([215, 255, 255], np.uint8)\n",
    "mask1 = cv2.inRange(res, bgrl, bgrh)\n",
    "mask2 = cv2.inRange(hsv, bgrl, bgrh)\n",
    "\n",
    "kernel = np.array(([13, -2, 16],[15, 17, 18],[12, 14, 18]), np.uint8)\n",
    "\n",
    "#2Dfilter\n",
    "blurred = cv2.filter2D(res, 3, kernel)\n",
    "\n",
    "#averaging\n",
    "avg = cv2.blur(res, (5,5))\n",
    "\n",
    "#Gaussian blur\n",
    "gaus_blur = cv2.GaussianBlur(res, (5,5), 0)\n",
    "\n",
    "#median blur\n",
    "med_blur = cv2.medianBlur(res, 7)\n",
    "\n",
    "#bilateral\n",
    "bilateral = cv2.bilateralFilter(res, 15, 500, 500)\n",
    "\n",
    "font = cv2.FONT_HERSHEY_SCRIPT_COMPLEX\n",
    "cv2.putText(res,'Roses',(300,50),font,2,(255,255,255),3)\n",
    "\n",
    "pts = np.array([[10,500],[50,600],[160,600],[200,500]],np.int32)\n",
    "pts = pts.reshape(-1,1,2)\n",
    "cv2.polylines(res, [pts], True, (130,150,250) )\n",
    "cv2.fillPoly(res,[pts], (141,59,190) )\n",
    "\n",
    "\n",
    "cv2.imwrite(\"E:/robosparkworkshop/Mask Original.jpg\",mask1)\n",
    "cv2.imwrite(\"E:/robosparkworkshop/Mask HSV.jpg\",mask2)\n",
    "cv2.imwrite(\"E:/robosparkworkshop/Filter2D.jpg\",blurred)\n",
    "cv2.imwrite(\"E:/robosparkworkshop/TXTImage.jpg\",res)\n",
    "cv2.imwrite(\"E:/robosparkworkshop/Averaging.jpg\",avg)\n",
    "cv2.imwrite(\"E:/robosparkworkshop/Gaussian blur.jpg\",gaus_blur)\n",
    "cv2.imwrite(\"E:/robosparkworkshop/Median Blur.jpg\",med_blur)\n",
    "cv2.imwrite(\"E:/robosparkworkshop/Bilateral.jpg\",bilateral)\n",
    "\n",
    "\n",
    "cv2.imshow(\"Or_text\", res)\n",
    "cv2.imshow(\"Masked original\", mask1)\n",
    "cv2.imshow(\"Masked HSV\", mask2)\n",
    "cv2.imshow(\"blurred\", blurred)\n",
    "cv2.imshow(\"averaging\", avg)\n",
    "cv2.imshow(\"gaussian blur\", gaus_blur)\n",
    "cv2.imshow(\"median blur normal\", med_blur)\n",
    "cv2.imshow(\"bilateral\", bilateral)\n",
    "\n",
    "cv2.waitKey(0)\n",
    "cv2.destroyAllWindows()"
   ]
  },
  {
   "cell_type": "code",
   "execution_count": null,
   "metadata": {},
   "outputs": [],
   "source": []
  }
 ],
 "metadata": {
  "kernelspec": {
   "display_name": "Python 3",
   "language": "python",
   "name": "python3"
  },
  "language_info": {
   "codemirror_mode": {
    "name": "ipython",
    "version": 3
   },
   "file_extension": ".py",
   "mimetype": "text/x-python",
   "name": "python",
   "nbconvert_exporter": "python",
   "pygments_lexer": "ipython3",
   "version": "3.7.6"
  }
 },
 "nbformat": 4,
 "nbformat_minor": 4
}
